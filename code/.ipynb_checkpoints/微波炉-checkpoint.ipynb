{
 "cells": [
  {
   "cell_type": "code",
   "execution_count": 1,
   "metadata": {},
   "outputs": [
    {
     "name": "stderr",
     "output_type": "stream",
     "text": [
      "Building prefix dict from the default dictionary ...\n",
      "Loading model from cache C:\\Users\\16249\\AppData\\Local\\Temp\\jieba.cache\n",
      "Loading model cost 0.836 seconds.\n",
      "Prefix dict has been built succesfully.\n"
     ]
    },
    {
     "data": {
      "text/plain": [
       "0    Do   not   recommend   it .   go   use   your ...\n",
       "1    Looks   as   good   as   the   picture   Didn ...\n",
       "2    Four   Stars   Very   nice   microwave ,   gre...\n",
       "3    quiet   Quiet ,   but   does   not   seem   li...\n",
       "4    Four   Stars   It ' s   bigger   than   I   th...\n",
       "Name: review, dtype: object"
      ]
     },
     "execution_count": 1,
     "metadata": {},
     "output_type": "execute_result"
    }
   ],
   "source": [
    "import pandas as pd \n",
    "import numpy as np\n",
    "import jieba\n",
    "microwave = pd.read_csv('./files/microwave1.csv',encoding='gb18030')\n",
    "microwave = microwave[['star_rating','review']]\n",
    "microwave.head()\n",
    "#进行分词\n",
    "mycut = lambda s: ' '.join(jieba.cut(s))\n",
    "cut_review = microwave['review'].astype(str).apply(mycut)\n",
    "review_1000 = cut_review[0:1000]\n",
    "review_1000.head()"
   ]
  },
  {
   "cell_type": "code",
   "execution_count": 2,
   "metadata": {},
   "outputs": [
    {
     "data": {
      "text/plain": [
       "16     Love   to   nuke   Good   price ,   has   cont...\n",
       "67     Not   very   happy   with   the   new   design...\n",
       "191    Five   Stars   Looks   great   for   the   pri...\n",
       "206    Five   Stars   Great   small   size ,   easy  ...\n",
       "375    Five   Stars   Great   service ,   very   good...\n",
       "553    I   feel   like   I   made   a   big   mistake...\n",
       "864    Looks   great   but   longevity   poor   This ...\n",
       "880    Perfect   for   my   RV .   Bought   this   cu...\n",
       "994    Nice !   This   is   a   really   nice   littl...\n",
       "Name: review, dtype: object"
      ]
     },
     "execution_count": 2,
     "metadata": {},
     "output_type": "execute_result"
    }
   ],
   "source": [
    "review_1000[[16,67,191,206,375,553,864,880,994]]"
   ]
  },
  {
   "cell_type": "code",
   "execution_count": 3,
   "metadata": {},
   "outputs": [
    {
     "data": {
      "text/plain": [
       "array([[1.        , 0.16457743, 0.        , ..., 0.01922347, 0.06710329,\n",
       "        0.10114364],\n",
       "       [0.16457743, 1.        , 0.04159663, ..., 0.05184304, 0.12187703,\n",
       "        0.12794563],\n",
       "       [0.        , 0.04159663, 1.        , ..., 0.05446499, 0.        ,\n",
       "        0.03934316],\n",
       "       ...,\n",
       "       [0.01922347, 0.05184304, 0.05446499, ..., 1.        , 0.03036484,\n",
       "        0.05801254],\n",
       "       [0.06710329, 0.12187703, 0.        , ..., 0.03036484, 1.        ,\n",
       "        0.05626966],\n",
       "       [0.10114364, 0.12794563, 0.03934316, ..., 0.05801254, 0.05626966,\n",
       "        1.        ]])"
      ]
     },
     "execution_count": 3,
     "metadata": {},
     "output_type": "execute_result"
    }
   ],
   "source": [
    "from sklearn.feature_extraction.text import CountVectorizer, TfidfVectorizer, TfidfTransformer\n",
    "from sklearn.metrics.pairwise import cosine_similarity\n",
    "corpus = list(review_1000[::1])\n",
    "# TF-IDF向量化工具\n",
    "tfidf_vec = TfidfVectorizer() \n",
    "tfidf_matrix = tfidf_vec.fit_transform(corpus)\n",
    "# 获取词汇表\n",
    "# print(tfidf_vec.get_feature_names())\n",
    "# 获取每个单词出现的次数\n",
    "# print(tfidf_vec.vocabulary_)\n",
    "# 获取文档的TF-IDF词向量\n",
    "# print(tfidf_matrix.toarray())\n",
    "# 计算各篇文档的相似度\n",
    "cosine_similarity = cosine_similarity(tfidf_matrix)\n",
    "cosine_similarity"
   ]
  },
  {
   "cell_type": "code",
   "execution_count": 4,
   "metadata": {},
   "outputs": [
    {
     "data": {
      "text/html": [
       "<div>\n",
       "<style>\n",
       "    .dataframe thead tr:only-child th {\n",
       "        text-align: right;\n",
       "    }\n",
       "\n",
       "    .dataframe thead th {\n",
       "        text-align: left;\n",
       "    }\n",
       "\n",
       "    .dataframe tbody tr th {\n",
       "        vertical-align: top;\n",
       "    }\n",
       "</style>\n",
       "<table border=\"1\" class=\"dataframe\">\n",
       "  <thead>\n",
       "    <tr style=\"text-align: right;\">\n",
       "      <th></th>\n",
       "      <th>0</th>\n",
       "      <th>1</th>\n",
       "      <th>2</th>\n",
       "      <th>3</th>\n",
       "      <th>4</th>\n",
       "      <th>5</th>\n",
       "      <th>6</th>\n",
       "      <th>7</th>\n",
       "      <th>8</th>\n",
       "      <th>9</th>\n",
       "      <th>...</th>\n",
       "      <th>990</th>\n",
       "      <th>991</th>\n",
       "      <th>992</th>\n",
       "      <th>993</th>\n",
       "      <th>994</th>\n",
       "      <th>995</th>\n",
       "      <th>996</th>\n",
       "      <th>997</th>\n",
       "      <th>998</th>\n",
       "      <th>999</th>\n",
       "    </tr>\n",
       "  </thead>\n",
       "  <tbody>\n",
       "    <tr>\n",
       "      <th>0</th>\n",
       "      <td>0.118478</td>\n",
       "      <td>0.164819</td>\n",
       "      <td>0.061946</td>\n",
       "      <td>0.038014</td>\n",
       "      <td>0.009246</td>\n",
       "      <td>0.234187</td>\n",
       "      <td>0.128017</td>\n",
       "      <td>0.088380</td>\n",
       "      <td>0.235956</td>\n",
       "      <td>0.225100</td>\n",
       "      <td>...</td>\n",
       "      <td>0.214921</td>\n",
       "      <td>0.264222</td>\n",
       "      <td>0.125399</td>\n",
       "      <td>0.131978</td>\n",
       "      <td>0.182968</td>\n",
       "      <td>0.111172</td>\n",
       "      <td>0.126903</td>\n",
       "      <td>0.086004</td>\n",
       "      <td>0.061342</td>\n",
       "      <td>0.213506</td>\n",
       "    </tr>\n",
       "    <tr>\n",
       "      <th>1</th>\n",
       "      <td>0.120892</td>\n",
       "      <td>0.153054</td>\n",
       "      <td>0.047835</td>\n",
       "      <td>0.030267</td>\n",
       "      <td>0.008668</td>\n",
       "      <td>0.133809</td>\n",
       "      <td>0.113636</td>\n",
       "      <td>0.061504</td>\n",
       "      <td>0.213485</td>\n",
       "      <td>0.170396</td>\n",
       "      <td>...</td>\n",
       "      <td>0.207358</td>\n",
       "      <td>0.265396</td>\n",
       "      <td>0.145297</td>\n",
       "      <td>0.167770</td>\n",
       "      <td>0.158161</td>\n",
       "      <td>0.208108</td>\n",
       "      <td>0.089527</td>\n",
       "      <td>0.066344</td>\n",
       "      <td>0.058411</td>\n",
       "      <td>0.252322</td>\n",
       "    </tr>\n",
       "    <tr>\n",
       "      <th>2</th>\n",
       "      <td>0.151186</td>\n",
       "      <td>0.139777</td>\n",
       "      <td>0.248939</td>\n",
       "      <td>0.030600</td>\n",
       "      <td>0.061481</td>\n",
       "      <td>0.081551</td>\n",
       "      <td>0.035059</td>\n",
       "      <td>0.092587</td>\n",
       "      <td>0.063520</td>\n",
       "      <td>0.092840</td>\n",
       "      <td>...</td>\n",
       "      <td>0.057518</td>\n",
       "      <td>0.129639</td>\n",
       "      <td>0.138060</td>\n",
       "      <td>0.033302</td>\n",
       "      <td>0.064455</td>\n",
       "      <td>0.031430</td>\n",
       "      <td>0.076204</td>\n",
       "      <td>0.056922</td>\n",
       "      <td>0.053542</td>\n",
       "      <td>0.089234</td>\n",
       "    </tr>\n",
       "    <tr>\n",
       "      <th>3</th>\n",
       "      <td>0.000000</td>\n",
       "      <td>0.061009</td>\n",
       "      <td>0.273207</td>\n",
       "      <td>0.000000</td>\n",
       "      <td>0.067475</td>\n",
       "      <td>0.085291</td>\n",
       "      <td>0.087781</td>\n",
       "      <td>0.035354</td>\n",
       "      <td>0.032380</td>\n",
       "      <td>0.060359</td>\n",
       "      <td>...</td>\n",
       "      <td>0.005389</td>\n",
       "      <td>0.045178</td>\n",
       "      <td>0.037286</td>\n",
       "      <td>0.000000</td>\n",
       "      <td>0.118837</td>\n",
       "      <td>0.000000</td>\n",
       "      <td>0.000000</td>\n",
       "      <td>0.054046</td>\n",
       "      <td>0.009213</td>\n",
       "      <td>0.023207</td>\n",
       "    </tr>\n",
       "    <tr>\n",
       "      <th>4</th>\n",
       "      <td>0.022393</td>\n",
       "      <td>0.102075</td>\n",
       "      <td>0.389219</td>\n",
       "      <td>0.000000</td>\n",
       "      <td>0.056321</td>\n",
       "      <td>0.066809</td>\n",
       "      <td>0.019851</td>\n",
       "      <td>0.050548</td>\n",
       "      <td>0.031782</td>\n",
       "      <td>0.082802</td>\n",
       "      <td>...</td>\n",
       "      <td>0.011940</td>\n",
       "      <td>0.066750</td>\n",
       "      <td>0.035774</td>\n",
       "      <td>0.094334</td>\n",
       "      <td>0.035645</td>\n",
       "      <td>0.031942</td>\n",
       "      <td>0.111712</td>\n",
       "      <td>0.058650</td>\n",
       "      <td>0.019186</td>\n",
       "      <td>0.072176</td>\n",
       "    </tr>\n",
       "    <tr>\n",
       "      <th>5</th>\n",
       "      <td>0.119446</td>\n",
       "      <td>0.146715</td>\n",
       "      <td>0.000000</td>\n",
       "      <td>0.044374</td>\n",
       "      <td>0.111771</td>\n",
       "      <td>0.054532</td>\n",
       "      <td>0.078234</td>\n",
       "      <td>0.010910</td>\n",
       "      <td>0.053315</td>\n",
       "      <td>0.115264</td>\n",
       "      <td>...</td>\n",
       "      <td>0.085640</td>\n",
       "      <td>0.096102</td>\n",
       "      <td>0.041570</td>\n",
       "      <td>0.074890</td>\n",
       "      <td>0.080094</td>\n",
       "      <td>0.020803</td>\n",
       "      <td>0.087422</td>\n",
       "      <td>0.019415</td>\n",
       "      <td>0.074801</td>\n",
       "      <td>0.108927</td>\n",
       "    </tr>\n",
       "    <tr>\n",
       "      <th>6</th>\n",
       "      <td>0.065044</td>\n",
       "      <td>0.154919</td>\n",
       "      <td>0.036972</td>\n",
       "      <td>0.019449</td>\n",
       "      <td>0.009735</td>\n",
       "      <td>0.104321</td>\n",
       "      <td>0.076421</td>\n",
       "      <td>0.079656</td>\n",
       "      <td>0.180069</td>\n",
       "      <td>0.152375</td>\n",
       "      <td>...</td>\n",
       "      <td>0.235008</td>\n",
       "      <td>0.196930</td>\n",
       "      <td>0.084030</td>\n",
       "      <td>0.130392</td>\n",
       "      <td>0.138858</td>\n",
       "      <td>0.069417</td>\n",
       "      <td>0.082505</td>\n",
       "      <td>0.069766</td>\n",
       "      <td>0.070901</td>\n",
       "      <td>0.192037</td>\n",
       "    </tr>\n",
       "    <tr>\n",
       "      <th>7</th>\n",
       "      <td>0.046249</td>\n",
       "      <td>0.103113</td>\n",
       "      <td>0.086654</td>\n",
       "      <td>0.029841</td>\n",
       "      <td>0.000000</td>\n",
       "      <td>0.102885</td>\n",
       "      <td>0.064605</td>\n",
       "      <td>0.090821</td>\n",
       "      <td>0.084239</td>\n",
       "      <td>0.134059</td>\n",
       "      <td>...</td>\n",
       "      <td>0.167141</td>\n",
       "      <td>0.207025</td>\n",
       "      <td>0.120817</td>\n",
       "      <td>0.113049</td>\n",
       "      <td>0.078267</td>\n",
       "      <td>0.089170</td>\n",
       "      <td>0.076848</td>\n",
       "      <td>0.123451</td>\n",
       "      <td>0.028360</td>\n",
       "      <td>0.118135</td>\n",
       "    </tr>\n",
       "    <tr>\n",
       "      <th>8</th>\n",
       "      <td>0.066710</td>\n",
       "      <td>0.108884</td>\n",
       "      <td>0.133447</td>\n",
       "      <td>0.000000</td>\n",
       "      <td>0.020017</td>\n",
       "      <td>0.107635</td>\n",
       "      <td>0.150787</td>\n",
       "      <td>0.186586</td>\n",
       "      <td>0.144437</td>\n",
       "      <td>0.122145</td>\n",
       "      <td>...</td>\n",
       "      <td>0.099356</td>\n",
       "      <td>0.185880</td>\n",
       "      <td>0.176075</td>\n",
       "      <td>0.153536</td>\n",
       "      <td>1.000000</td>\n",
       "      <td>0.041906</td>\n",
       "      <td>0.047442</td>\n",
       "      <td>0.065270</td>\n",
       "      <td>0.042439</td>\n",
       "      <td>0.140577</td>\n",
       "    </tr>\n",
       "  </tbody>\n",
       "</table>\n",
       "<p>9 rows × 1000 columns</p>\n",
       "</div>"
      ],
      "text/plain": [
       "        0         1         2         3         4         5         6    \\\n",
       "0  0.118478  0.164819  0.061946  0.038014  0.009246  0.234187  0.128017   \n",
       "1  0.120892  0.153054  0.047835  0.030267  0.008668  0.133809  0.113636   \n",
       "2  0.151186  0.139777  0.248939  0.030600  0.061481  0.081551  0.035059   \n",
       "3  0.000000  0.061009  0.273207  0.000000  0.067475  0.085291  0.087781   \n",
       "4  0.022393  0.102075  0.389219  0.000000  0.056321  0.066809  0.019851   \n",
       "5  0.119446  0.146715  0.000000  0.044374  0.111771  0.054532  0.078234   \n",
       "6  0.065044  0.154919  0.036972  0.019449  0.009735  0.104321  0.076421   \n",
       "7  0.046249  0.103113  0.086654  0.029841  0.000000  0.102885  0.064605   \n",
       "8  0.066710  0.108884  0.133447  0.000000  0.020017  0.107635  0.150787   \n",
       "\n",
       "        7         8         9      ...          990       991       992  \\\n",
       "0  0.088380  0.235956  0.225100    ...     0.214921  0.264222  0.125399   \n",
       "1  0.061504  0.213485  0.170396    ...     0.207358  0.265396  0.145297   \n",
       "2  0.092587  0.063520  0.092840    ...     0.057518  0.129639  0.138060   \n",
       "3  0.035354  0.032380  0.060359    ...     0.005389  0.045178  0.037286   \n",
       "4  0.050548  0.031782  0.082802    ...     0.011940  0.066750  0.035774   \n",
       "5  0.010910  0.053315  0.115264    ...     0.085640  0.096102  0.041570   \n",
       "6  0.079656  0.180069  0.152375    ...     0.235008  0.196930  0.084030   \n",
       "7  0.090821  0.084239  0.134059    ...     0.167141  0.207025  0.120817   \n",
       "8  0.186586  0.144437  0.122145    ...     0.099356  0.185880  0.176075   \n",
       "\n",
       "        993       994       995       996       997       998       999  \n",
       "0  0.131978  0.182968  0.111172  0.126903  0.086004  0.061342  0.213506  \n",
       "1  0.167770  0.158161  0.208108  0.089527  0.066344  0.058411  0.252322  \n",
       "2  0.033302  0.064455  0.031430  0.076204  0.056922  0.053542  0.089234  \n",
       "3  0.000000  0.118837  0.000000  0.000000  0.054046  0.009213  0.023207  \n",
       "4  0.094334  0.035645  0.031942  0.111712  0.058650  0.019186  0.072176  \n",
       "5  0.074890  0.080094  0.020803  0.087422  0.019415  0.074801  0.108927  \n",
       "6  0.130392  0.138858  0.069417  0.082505  0.069766  0.070901  0.192037  \n",
       "7  0.113049  0.078267  0.089170  0.076848  0.123451  0.028360  0.118135  \n",
       "8  0.153536  1.000000  0.041906  0.047442  0.065270  0.042439  0.140577  \n",
       "\n",
       "[9 rows x 1000 columns]"
      ]
     },
     "execution_count": 4,
     "metadata": {},
     "output_type": "execute_result"
    }
   ],
   "source": [
    "#微波炉第特定条评论跟前74条评论的相似度 74-1month  1000-\n",
    "df_cosine_similarity = pd.DataFrame(cosine_similarity[[16,67,191,206,375,553,864,880,994]])\n",
    "df_cosine_similarity = df_cosine_similarity.iloc[:,0:1000]\n",
    "df_cosine_similarity"
   ]
  },
  {
   "cell_type": "code",
   "execution_count": 5,
   "metadata": {
    "scrolled": true
   },
   "outputs": [
    {
     "name": "stdout",
     "output_type": "stream",
     "text": [
      "[2, 0, 4, 5, 5, 0, 8, 8, 0, 0, 2, 2, 6, 0, 1, 7, 0, 1, 4, 4, 4, 8, 7, 3, 0, 1, 3, 2, 7, 0, 2, 1, 4, 8, 0, 1, 3, 0, 7, 8, 3, 0, 8, 8, 5, 3, 7, 1, 3, 1, 0, 0, 0, 3, 8, 4, 0, 0, 0, 2, 4, 3, 8, 4, 1, 2, 0, 1, 6, 3, 2, 2, 0, 1, 6, 6, 1, 3, 0, 0, 0, 6, 0, 7, 2, 7, 6, 1, 0, 1, 0, 4, 4, 7, 6, 2, 4, 5, 3, 0, 0, 3, 4, 1, 3, 2, 0, 1, 0, 1, 8, 0, 0, 0, 6, 6, 1, 0, 1, 4, 1, 4, 2, 1, 2, 0, 5, 4, 8, 3, 0, 0, 1, 0, 1, 0, 6, 4, 6, 4, 2, 8, 8, 8, 3, 2, 7, 2, 4, 4, 2, 1, 3, 3, 2, 3, 2, 0, 4, 7, 8, 7, 1, 0, 7, 4, 3, 2, 0, 3, 4, 4, 2, 4, 4, 0, 3, 0, 7, 0, 0, 8, 0, 7, 0, 8, 4, 2, 2, 0, 3, 2, 3, 0, 0, 6, 0, 7, 1, 2, 3, 6, 0, 7, 4, 1, 3, 4, 2, 3, 7, 6, 8, 6, 3, 4, 3, 3, 3, 0, 0, 2, 0, 3, 0, 8, 4, 0, 0, 2, 1, 0, 1, 6, 3, 4, 2, 0, 8, 4, 0, 4, 2, 1, 2, 7, 0, 5, 8, 0, 0, 3, 3, 1, 0, 2, 0, 2, 2, 1, 0, 0, 7, 4, 4, 3, 1, 3, 1, 2, 3, 1, 4, 2, 3, 2, 8, 4, 2, 4, 8, 2, 3, 4, 1, 2, 0, 3, 3, 6, 0, 0, 0, 0, 1, 2, 7, 1, 3, 2, 7, 4, 8, 8, 0, 8, 2, 0, 0, 0, 3, 8, 5, 4, 1, 4, 5, 6, 1, 0, 4, 6, 1, 3, 1, 0, 4, 7, 3, 4, 0, 5, 1, 4, 2, 1, 3, 0, 1, 0, 1, 4, 2, 1, 7, 2, 8, 0, 8, 2, 0, 2, 4, 2, 0, 2, 0, 8, 0, 7, 0, 0, 4, 8, 8, 1, 0, 0, 0, 7, 8, 1, 7, 0, 2, 4, 3, 4, 4, 0, 5, 3, 4, 1, 7, 4, 5, 8, 3, 0, 4, 5, 7, 8, 0, 0, 0, 0, 0, 6, 1, 7, 5, 7, 8, 0, 6, 2, 0, 1, 0, 3, 6, 5, 0, 2, 2, 1, 5, 0, 0, 0, 1, 0, 2, 1, 1, 1, 6, 5, 3, 0, 2, 1, 1, 0, 0, 8, 1, 3, 0, 0, 1, 7, 3, 1, 1, 2, 0, 1, 0, 2, 3, 0, 2, 6, 1, 0, 3, 0, 8, 0, 3, 4, 1, 4, 0, 2, 3, 5, 0, 4, 0, 2, 0, 6, 4, 0, 0, 1, 1, 2, 0, 7, 3, 3, 0, 4, 8, 0, 1, 0, 0, 1, 3, 0, 0, 4, 6, 3, 2, 1, 3, 0, 4, 3, 2, 2, 3, 2, 0, 0, 2, 1, 1, 0, 1, 8, 4, 0, 2, 4, 1, 0, 7, 2, 8, 1, 8, 3, 4, 0, 1, 8, 2, 2, 1, 2, 7, 3, 0, 8, 3, 3, 3, 7, 1, 0, 1, 2, 6, 3, 7, 5, 2, 1, 3, 0, 1, 0, 3, 2, 1, 3, 2, 3, 2, 1, 0, 3, 8, 2, 1, 0, 4, 0, 0, 1, 2, 4, 0, 3, 3, 2, 1, 1, 3, 2, 5, 0, 2, 2, 4, 0, 2, 7, 4, 6, 3, 2, 1, 2, 2, 3, 2, 0, 0, 2, 1, 4, 0, 6, 1, 7, 1, 6, 0, 3, 5, 0, 7, 1, 4, 0, 2, 4, 3, 1, 0, 4, 4, 6, 1, 8, 2, 2, 0, 4, 2, 2, 0, 8, 3, 5, 3, 2, 1, 0, 0, 6, 3, 1, 4, 0, 4, 8, 5, 2, 0, 0, 1, 0, 0, 0, 6, 3, 1, 3, 0, 3, 1, 1, 1, 2, 0, 7, 5, 4, 2, 4, 7, 7, 0, 0, 6, 7, 1, 0, 0, 7, 6, 0, 1, 0, 0, 0, 6, 7, 0, 5, 0, 6, 0, 8, 0, 6, 1, 1, 2, 1, 0, 0, 7, 1, 7, 0, 6, 1, 8, 6, 8, 3, 5, 0, 0, 1, 0, 0, 7, 2, 0, 0, 0, 1, 0, 0, 0, 0, 8, 6, 0, 1, 1, 1, 1, 7, 0, 1, 8, 0, 0, 7, 1, 1, 4, 7, 0, 0, 8, 0, 0, 0, 0, 1, 1, 6, 0, 0, 7, 0, 0, 1, 0, 0, 6, 5, 8, 0, 7, 0, 8, 1, 2, 1, 0, 2, 0, 1, 0, 6, 0, 3, 7, 0, 8, 0, 0, 0, 1, 0, 0, 1, 6, 7, 8, 3, 0, 1, 2, 0, 0, 8, 1, 0, 7, 0, 0, 1, 1, 1, 1, 1, 8, 1, 0, 0, 0, 0, 2, 2, 0, 1, 4, 1, 0, 1, 1, 0, 1, 1, 1, 1, 0, 0, 6, 0, 2, 8, 4, 0, 1, 1, 0, 0, 8, 0, 7, 7, 0, 0, 2, 0, 0, 4, 6, 1, 1, 1, 1, 0, 7, 8, 1, 3, 2, 0, 6, 0, 0, 1, 7, 1, 0, 0, 8, 1, 6, 8, 0, 0, 0, 1, 0, 6, 1, 2, 6, 2, 7, 6, 7, 1, 1, 0, 1, 1, 0, 0, 0, 3, 1, 1, 6, 7, 0, 0, 7, 7, 5, 8, 6, 1, 6, 8, 7, 0, 0, 1, 7, 8, 0, 7, 8, 1, 2, 0, 0, 4, 7, 5, 0, 0, 0, 1, 2, 0, 1, 6, 0, 1, 0, 0, 1, 4, 5, 6, 0, 1, 1, 2, 2, 0, 1, 1, 0, 7, 0, 2, 6, 0, 0, 0, 0, 2, 4, 8, 0, 6, 7, 0, 0, 2, 1, 6, 0, 6, 5, 0, 0, 0, 6, 1, 8, 1, 8, 1, 0, 7, 5, 1]\n"
     ]
    }
   ],
   "source": [
    "#74-1month  1000-\n",
    "list2 = []\n",
    "for i in range(0,1000):\n",
    "    max_num =max(df_cosine_similarity[i])\n",
    "    j=0\n",
    "    for each_num in df_cosine_similarity[i]:\n",
    "        if max_num > 0.0:\n",
    "            if each_num == max_num:\n",
    "#                 print(each_num)\n",
    "                list2.append(j)\n",
    "            j = j+1\n",
    "        else:\n",
    "            list2.append(int(max_num))\n",
    "            break\n",
    "print(list2)"
   ]
  },
  {
   "cell_type": "code",
   "execution_count": 6,
   "metadata": {
    "scrolled": true
   },
   "outputs": [
    {
     "name": "stdout",
     "output_type": "stream",
     "text": [
      "[216, 18, 430, 637, 637, 18, 1315, 1315, 18, 18, 216, 216, 1090, 18, 76, 1122, 18, 76, 430, 430, 430, 1315, 1122, 232, 18, 76, 232, 216, 1122, 18, 216, 76, 430, 1315, 18, 76, 232, 18, 1122, 1315, 232, 18, 1315, 1315, 637, 232, 1122, 76, 232, 76, 18, 18, 18, 232, 1315, 430, 18, 18, 18, 216, 430, 232, 1315, 430, 76, 216, 18, 76, 1090, 232, 216, 216, 18, 76, 1090, 1090, 76, 232, 18, 18, 18, 1090, 18, 1122, 216, 1122, 1090, 76, 18, 76, 18, 430, 430, 1122, 1090, 216, 430, 637, 232, 18, 18, 232, 430, 76, 232, 216, 18, 76, 18, 76, 1315, 18, 18, 18, 1090, 1090, 76, 18, 76, 430, 76, 430, 216, 76, 216, 18, 637, 430, 1315, 232, 18, 18, 76, 18, 76, 18, 1090, 430, 1090, 430, 216, 1315, 1315, 1315, 232, 216, 1122, 216, 430, 430, 216, 76, 232, 232, 216, 232, 216, 18, 430, 1122, 1315, 1122, 76, 18, 1122, 430, 232, 216, 18, 232, 430, 430, 216, 430, 430, 18, 232, 18, 1122, 18, 18, 1315, 18, 1122, 18, 1315, 430, 216, 216, 18, 232, 216, 232, 18, 18, 1090, 18, 1122, 76, 216, 232, 1090, 18, 1122, 430, 76, 232, 430, 216, 232, 1122, 1090, 1315, 1090, 232, 430, 232, 232, 232, 18, 18, 216, 18, 232, 18, 1315, 430, 18, 18, 216, 76, 18, 76, 1090, 232, 430, 216, 18, 1315, 430, 18, 430, 216, 76, 216, 1122, 18, 637, 1315, 18, 18, 232, 232, 76, 18, 216, 18, 216, 216, 76, 18, 18, 1122, 430, 430, 232, 76, 232, 76, 216, 232, 76, 430, 216, 232, 216, 1315, 430, 216, 430, 1315, 216, 232, 430, 76, 216, 18, 232, 232, 1090, 18, 18, 18, 18, 76, 216, 1122, 76, 232, 216, 1122, 430, 1315, 1315, 18, 1315, 216, 18, 18, 18, 232, 1315, 637, 430, 76, 430, 637, 1090, 76, 18, 430, 1090, 76, 232, 76, 18, 430, 1122, 232, 430, 18, 637, 76, 430, 216, 76, 232, 18, 76, 18, 76, 430, 216, 76, 1122, 216, 1315, 18, 1315, 216, 18, 216, 430, 216, 18, 216, 18, 1315, 18, 1122, 18, 18, 430, 1315, 1315, 76, 18, 18, 18, 1122, 1315, 76, 1122, 18, 216, 430, 232, 430, 430, 18, 637, 232, 430, 76, 1122, 430, 637, 1315, 232, 18, 430, 637, 1122, 1315, 18, 18, 18, 18, 18, 1090, 76, 1122, 637, 1122, 1315, 18, 1090, 216, 18, 76, 18, 232, 1090, 637, 18, 216, 216, 76, 637, 18, 18, 18, 76, 18, 216, 76, 76, 76, 1090, 637, 232, 18, 216, 76, 76, 18, 18, 1315, 76, 232, 18, 18, 76, 1122, 232, 76, 76, 216, 18, 76, 18, 216, 232, 18, 216, 1090, 76, 18, 232, 18, 1315, 18, 232, 430, 76, 430, 18, 216, 232, 637, 18, 430, 18, 216, 18, 1090, 430, 18, 18, 76, 76, 216, 18, 1122, 232, 232, 18, 430, 1315, 18, 76, 18, 18, 76, 232, 18, 18, 430, 1090, 232, 216, 76, 232, 18, 430, 232, 216, 216, 232, 216, 18, 18, 216, 76, 76, 18, 76, 1315, 430, 18, 216, 430, 76, 18, 1122, 216, 1315, 76, 1315, 232, 430, 18, 76, 1315, 216, 216, 76, 216, 1122, 232, 18, 1315, 232, 232, 232, 1122, 76, 18, 76, 216, 1090, 232, 1122, 637, 216, 76, 232, 18, 76, 18, 232, 216, 76, 232, 216, 232, 216, 76, 18, 232, 1315, 216, 76, 18, 430, 18, 18, 76, 216, 430, 18, 232, 232, 216, 76, 76, 232, 216, 637, 18, 216, 216, 430, 18, 216, 1122, 430, 1090, 232, 216, 76, 216, 216, 232, 216, 18, 18, 216, 76, 430, 18, 1090, 76, 1122, 76, 1090, 18, 232, 637, 18, 1122, 76, 430, 18, 216, 430, 232, 76, 18, 430, 430, 1090, 76, 1315, 216, 216, 18, 430, 216, 216, 18, 1315, 232, 637, 232, 216, 76, 18, 18, 1090, 232, 76, 430, 18, 430, 1315, 637, 216, 18, 18, 76, 18, 18, 18, 1090, 232, 76, 232, 18, 232, 76, 76, 76, 216, 18, 1122, 637, 430, 216, 430, 1122, 1122, 18, 18, 1090, 1122, 76, 18, 18, 1122, 1090, 18, 76, 18, 18, 18, 1090, 1122, 18, 637, 18, 1090, 18, 1315, 18, 1090, 76, 76, 216, 76, 18, 18, 1122, 76, 1122, 18, 1090, 76, 1315, 1090, 1315, 232, 637, 18, 18, 76, 18, 18, 1122, 216, 18, 18, 18, 76, 18, 18, 18, 18, 1315, 1090, 18, 76, 76, 76, 76, 1122, 18, 76, 1315, 18, 18, 1122, 76, 76, 430, 1122, 18, 18, 1315, 18, 18, 18, 18, 76, 76, 1090, 18, 18, 1122, 18, 18, 76, 18, 18, 1090, 637, 1315, 18, 1122, 18, 1315, 76, 216, 76, 18, 216, 18, 76, 18, 1090, 18, 232, 1122, 18, 1315, 18, 18, 18, 76, 18, 18, 76, 1090, 1122, 1315, 232, 18, 76, 216, 18, 18, 1315, 76, 18, 1122, 18, 18, 76, 76, 76, 76, 76, 1315, 76, 18, 18, 18, 18, 216, 216, 18, 76, 430, 76, 18, 76, 76, 18, 76, 76, 76, 76, 18, 18, 1090, 18, 216, 1315, 430, 18, 76, 76, 18, 18, 1315, 18, 1122, 1122, 18, 18, 216, 18, 18, 430, 1090, 76, 76, 76, 76, 18, 1122, 1315, 76, 232, 216, 18, 1090, 18, 18, 76, 1122, 76, 18, 18, 1315, 76, 1090, 1315, 18, 18, 18, 76, 18, 1090, 76, 216, 1090, 216, 1122, 1090, 1122, 76, 76, 18, 76, 76, 18, 18, 18, 232, 76, 76, 1090, 1122, 18, 18, 1122, 1122, 637, 1315, 1090, 76, 1090, 1315, 1122, 18, 18, 76, 1122, 1315, 18, 1122, 1315, 76, 216, 18, 18, 430, 1122, 637, 18, 18, 18, 76, 216, 18, 76, 1090, 18, 76, 18, 18, 76, 430, 637, 1090, 18, 76, 76, 216, 216, 18, 76, 76, 18, 1122, 18, 216, 1090, 18, 18, 18, 18, 216, 430, 1315, 18, 1090, 1122, 18, 18, 216, 76, 1090, 18, 1090, 637, 18, 18, 18, 1090, 76, 1315, 76, 1315, 76, 18, 1122, 637, 76]\n"
     ]
    }
   ],
   "source": [
    "review_kind2 = []\n",
    "for j in list2:\n",
    "    if j == 0:\n",
    "        review_kind2.append(18)\n",
    "    elif j == 1:\n",
    "        review_kind2.append(76)\n",
    "    elif j == 2:\n",
    "        review_kind2.append(216)\n",
    "    elif j == 3:\n",
    "        review_kind2.append(232)\n",
    "    elif j == 4:\n",
    "        review_kind2.append(430)\n",
    "    elif j == 5:\n",
    "        review_kind2.append(637)\n",
    "    elif j == 6:\n",
    "        review_kind2.append(1090)\n",
    "    elif j == 7:\n",
    "        review_kind2.append(1122)\n",
    "    else:\n",
    "        review_kind2.append(1315)\n",
    "print(review_kind2)"
   ]
  },
  {
   "cell_type": "code",
   "execution_count": 7,
   "metadata": {
    "scrolled": true
   },
   "outputs": [
    {
     "name": "stdout",
     "output_type": "stream",
     "text": [
      "[3, 4, 4, -4, -4, 4, 2, 2, 4, 4, 3, 3, -2, 4, -4, 4, 4, -4, 4, 4, 4, 2, 4, 2, 4, -4, 2, 3, 4, 4, 3, -4, 4, 2, 4, -4, 2, 4, 4, 2, 2, 4, 2, 2, -4, 2, 4, -4, 2, -4, 4, 4, 4, 2, 2, 4, 4, 4, 4, 3, 4, 2, 2, 4, -4, 3, 4, -4, -2, 2, 3, 3, 4, -4, -2, -2, -4, 2, 4, 4, 4, -2, 4, 4, 3, 4, -2, -4, 4, -4, 4, 4, 4, 4, -2, 3, 4, -4, 2, 4, 4, 2, 4, -4, 2, 3, 4, -4, 4, -4, 2, 4, 4, 4, -2, -2, -4, 4, -4, 4, -4, 4, 3, -4, 3, 4, -4, 4, 2, 2, 4, 4, -4, 4, -4, 4, -2, 4, -2, 4, 3, 2, 2, 2, 2, 3, 4, 3, 4, 4, 3, -4, 2, 2, 3, 2, 3, 4, 4, 4, 2, 4, -4, 4, 4, 4, 2, 3, 4, 2, 4, 4, 3, 4, 4, 4, 2, 4, 4, 4, 4, 2, 4, 4, 4, 2, 4, 3, 3, 4, 2, 3, 2, 4, 4, -2, 4, 4, -4, 3, 2, -2, 4, 4, 4, -4, 2, 4, 3, 2, 4, -2, 2, -2, 2, 4, 2, 2, 2, 4, 4, 3, 4, 2, 4, 2, 4, 4, 4, 3, -4, 4, -4, -2, 2, 4, 3, 4, 2, 4, 4, 4, 3, -4, 3, 4, 4, -4, 2, 4, 4, 2, 2, -4, 4, 3, 4, 3, 3, -4, 4, 4, 4, 4, 4, 2, -4, 2, -4, 3, 2, -4, 4, 3, 2, 3, 2, 4, 3, 4, 2, 3, 2, 4, -4, 3, 4, 2, 2, -2, 4, 4, 4, 4, -4, 3, 4, -4, 2, 3, 4, 4, 2, 2, 4, 2, 3, 4, 4, 4, 2, 2, -4, 4, -4, 4, -4, -2, -4, 4, 4, -2, -4, 2, -4, 4, 4, 4, 2, 4, 4, -4, -4, 4, 3, -4, 2, 4, -4, 4, -4, 4, 3, -4, 4, 3, 2, 4, 2, 3, 4, 3, 4, 3, 4, 3, 4, 2, 4, 4, 4, 4, 4, 2, 2, -4, 4, 4, 4, 4, 2, -4, 4, 4, 3, 4, 2, 4, 4, 4, -4, 2, 4, -4, 4, 4, -4, 2, 2, 4, 4, -4, 4, 2, 4, 4, 4, 4, 4, -2, -4, 4, -4, 4, 2, 4, -2, 3, 4, -4, 4, 2, -2, -4, 4, 3, 3, -4, -4, 4, 4, 4, -4, 4, 3, -4, -4, -4, -2, -4, 2, 4, 3, -4, -4, 4, 4, 2, -4, 2, 4, 4, -4, 4, 2, -4, -4, 3, 4, -4, 4, 3, 2, 4, 3, -2, -4, 4, 2, 4, 2, 4, 2, 4, -4, 4, 4, 3, 2, -4, 4, 4, 4, 3, 4, -2, 4, 4, 4, -4, -4, 3, 4, 4, 2, 2, 4, 4, 2, 4, -4, 4, 4, -4, 2, 4, 4, 4, -2, 2, 3, -4, 2, 4, 4, 2, 3, 3, 2, 3, 4, 4, 3, -4, -4, 4, -4, 2, 4, 4, 3, 4, -4, 4, 4, 3, 2, -4, 2, 2, 4, 4, -4, 2, 3, 3, -4, 3, 4, 2, 4, 2, 2, 2, 2, 4, -4, 4, -4, 3, -2, 2, 4, -4, 3, -4, 2, 4, -4, 4, 2, 3, -4, 2, 3, 2, 3, -4, 4, 2, 2, 3, -4, 4, 4, 4, 4, -4, 3, 4, 4, 2, 2, 3, -4, -4, 2, 3, -4, 4, 3, 3, 4, 4, 3, 4, 4, -2, 2, 3, -4, 3, 3, 2, 3, 4, 4, 3, -4, 4, 4, -2, -4, 4, -4, -2, 4, 2, -4, 4, 4, -4, 4, 4, 3, 4, 2, -4, 4, 4, 4, -2, -4, 2, 3, 3, 4, 4, 3, 3, 4, 2, 2, -4, 2, 3, -4, 4, 4, -2, 2, -4, 4, 4, 4, 2, -4, 3, 4, 4, -4, 4, 4, 4, -2, 2, -4, 2, 4, 2, -4, -4, -4, 3, 4, 4, -4, 4, 3, 4, 4, 4, 4, 4, -2, 4, -4, 4, 4, 4, -2, 4, -4, 4, 4, 4, -2, 4, 4, -4, 4, -2, 4, 2, 4, -2, -4, -4, 3, -4, 4, 4, 4, -4, 4, 4, -2, -4, 2, -2, 2, 2, -4, 4, 4, -4, 4, 4, 4, 3, 4, 4, 4, -4, 4, 4, 4, 4, 2, -2, 4, -4, -4, -4, -4, 4, 4, -4, 2, 4, 4, 4, -4, -4, 4, 4, 4, 4, 2, 4, 4, 4, 4, -4, -4, -2, 4, 4, 4, 4, 4, -4, 4, 4, -2, -4, 2, 4, 4, 4, 2, -4, 3, -4, 4, 3, 4, -4, 4, -2, 4, 2, 4, 4, 2, 4, 4, 4, -4, 4, 4, -4, -2, 4, 2, 2, 4, -4, 3, 4, 4, 2, -4, 4, 4, 4, 4, -4, -4, -4, -4, -4, 2, -4, 4, 4, 4, 4, 3, 3, 4, -4, 4, -4, 4, -4, -4, 4, -4, -4, -4, -4, 4, 4, -2, 4, 3, 2, 4, 4, -4, -4, 4, 4, 2, 4, 4, 4, 4, 4, 3, 4, 4, 4, -2, -4, -4, -4, -4, 4, 4, 2, -4, 2, 3, 4, -2, 4, 4, -4, 4, -4, 4, 4, 2, -4, -2, 2, 4, 4, 4, -4, 4, -2, -4, 3, -2, 3, 4, -2, 4, -4, -4, 4, -4, -4, 4, 4, 4, 2, -4, -4, -2, 4, 4, 4, 4, 4, -4, 2, -2, -4, -2, 2, 4, 4, 4, -4, 4, 2, 4, 4, 2, -4, 3, 4, 4, 4, 4, -4, 4, 4, 4, -4, 3, 4, -4, -2, 4, -4, 4, 4, -4, 4, -4, -2, 4, -4, -4, 3, 3, 4, -4, -4, 4, 4, 4, 3, -2, 4, 4, 4, 4, 3, 4, 2, 4, -2, 4, 4, 4, 3, -4, -2, 4, -2, -4, 4, 4, 4, -2, -4, 2, -4, 2, -4, 4, 4, -4, -4]\n"
     ]
    }
   ],
   "source": [
    "review_score2 = []\n",
    "for j in list2:\n",
    "    if j == 0:\n",
    "        review_score2.append(4)\n",
    "    elif j == 1:\n",
    "        review_score2.append(-4)\n",
    "    elif j == 2:\n",
    "        review_score2.append(3)\n",
    "    elif j == 3:\n",
    "        review_score2.append(2)\n",
    "    elif j == 4:\n",
    "        review_score2.append(4)\n",
    "    elif j == 5:\n",
    "        review_score2.append(-4)\n",
    "    elif j == 6:\n",
    "        review_score2.append(-2)\n",
    "    elif j == 7:\n",
    "        review_score2.append(4)\n",
    "    else:\n",
    "        review_score2.append(2)\n",
    "print(review_score2)"
   ]
  },
  {
   "cell_type": "code",
   "execution_count": 9,
   "metadata": {},
   "outputs": [
    {
     "name": "stderr",
     "output_type": "stream",
     "text": [
      "d:\\python3.6.4\\lib\\site-packages\\ipykernel_launcher.py:3: SettingWithCopyWarning: \n",
      "A value is trying to be set on a copy of a slice from a DataFrame.\n",
      "Try using .loc[row_indexer,col_indexer] = value instead\n",
      "\n",
      "See the caveats in the documentation: http://pandas.pydata.org/pandas-docs/stable/indexing.html#indexing-view-versus-copy\n",
      "  This is separate from the ipykernel package so we can avoid doing imports until\n",
      "d:\\python3.6.4\\lib\\site-packages\\ipykernel_launcher.py:4: SettingWithCopyWarning: \n",
      "A value is trying to be set on a copy of a slice from a DataFrame.\n",
      "Try using .loc[row_indexer,col_indexer] = value instead\n",
      "\n",
      "See the caveats in the documentation: http://pandas.pydata.org/pandas-docs/stable/indexing.html#indexing-view-versus-copy\n",
      "  after removing the cwd from sys.path.\n"
     ]
    },
    {
     "data": {
      "text/html": [
       "<div>\n",
       "<style>\n",
       "    .dataframe thead tr:only-child th {\n",
       "        text-align: right;\n",
       "    }\n",
       "\n",
       "    .dataframe thead th {\n",
       "        text-align: left;\n",
       "    }\n",
       "\n",
       "    .dataframe tbody tr th {\n",
       "        vertical-align: top;\n",
       "    }\n",
       "</style>\n",
       "<table border=\"1\" class=\"dataframe\">\n",
       "  <thead>\n",
       "    <tr style=\"text-align: right;\">\n",
       "      <th></th>\n",
       "      <th>star_rating</th>\n",
       "      <th>review</th>\n",
       "      <th>review_kind</th>\n",
       "      <th>review_score</th>\n",
       "    </tr>\n",
       "  </thead>\n",
       "  <tbody>\n",
       "    <tr>\n",
       "      <th>0</th>\n",
       "      <td>1</td>\n",
       "      <td>Do not recommend it. go use your money for som...</td>\n",
       "      <td>216</td>\n",
       "      <td>3</td>\n",
       "    </tr>\n",
       "    <tr>\n",
       "      <th>1</th>\n",
       "      <td>5</td>\n",
       "      <td>Looks as good as the picture Didn't use it lon...</td>\n",
       "      <td>18</td>\n",
       "      <td>4</td>\n",
       "    </tr>\n",
       "    <tr>\n",
       "      <th>2</th>\n",
       "      <td>4</td>\n",
       "      <td>Four Stars Very nice microwave, great price</td>\n",
       "      <td>430</td>\n",
       "      <td>4</td>\n",
       "    </tr>\n",
       "    <tr>\n",
       "      <th>3</th>\n",
       "      <td>3</td>\n",
       "      <td>quiet Quiet, but does not seem like 1000 watt ...</td>\n",
       "      <td>637</td>\n",
       "      <td>-4</td>\n",
       "    </tr>\n",
       "    <tr>\n",
       "      <th>4</th>\n",
       "      <td>4</td>\n",
       "      <td>Four Stars It's bigger than I thought.</td>\n",
       "      <td>637</td>\n",
       "      <td>-4</td>\n",
       "    </tr>\n",
       "  </tbody>\n",
       "</table>\n",
       "</div>"
      ],
      "text/plain": [
       "   star_rating                                             review  \\\n",
       "0            1  Do not recommend it. go use your money for som...   \n",
       "1            5  Looks as good as the picture Didn't use it lon...   \n",
       "2            4        Four Stars Very nice microwave, great price   \n",
       "3            3  quiet Quiet, but does not seem like 1000 watt ...   \n",
       "4            4             Four Stars It's bigger than I thought.   \n",
       "\n",
       "   review_kind  review_score  \n",
       "0          216             3  \n",
       "1           18             4  \n",
       "2          430             4  \n",
       "3          637            -4  \n",
       "4          637            -4  "
      ]
     },
     "execution_count": 9,
     "metadata": {},
     "output_type": "execute_result"
    }
   ],
   "source": [
    "#74-1month  1000-546days\n",
    "microwave100_kind = microwave[0:1000]\n",
    "microwave100_kind['review_kind'] = review_kind2\n",
    "microwave100_kind['review_score'] = review_score2\n",
    "# microwave100_kind.to_csv('microwave100_kind.csv')\n",
    "microwave100_kind.head()"
   ]
  },
  {
   "cell_type": "markdown",
   "metadata": {},
   "source": [
    "# EWMA"
   ]
  },
  {
   "cell_type": "code",
   "execution_count": 12,
   "metadata": {
    "scrolled": true
   },
   "outputs": [
    {
     "name": "stderr",
     "output_type": "stream",
     "text": [
      "d:\\python3.6.4\\lib\\site-packages\\ipykernel_launcher.py:3: SettingWithCopyWarning: \n",
      "A value is trying to be set on a copy of a slice from a DataFrame.\n",
      "Try using .loc[row_indexer,col_indexer] = value instead\n",
      "\n",
      "See the caveats in the documentation: http://pandas.pydata.org/pandas-docs/stable/indexing.html#indexing-view-versus-copy\n",
      "  This is separate from the ipykernel package so we can avoid doing imports until\n"
     ]
    },
    {
     "data": {
      "text/html": [
       "<div>\n",
       "<style>\n",
       "    .dataframe thead tr:only-child th {\n",
       "        text-align: right;\n",
       "    }\n",
       "\n",
       "    .dataframe thead th {\n",
       "        text-align: left;\n",
       "    }\n",
       "\n",
       "    .dataframe tbody tr th {\n",
       "        vertical-align: top;\n",
       "    }\n",
       "</style>\n",
       "<table border=\"1\" class=\"dataframe\">\n",
       "  <thead>\n",
       "    <tr style=\"text-align: right;\">\n",
       "      <th></th>\n",
       "      <th>star_rating</th>\n",
       "      <th>review_score</th>\n",
       "      <th>total_score</th>\n",
       "    </tr>\n",
       "    <tr>\n",
       "      <th>date</th>\n",
       "      <th></th>\n",
       "      <th></th>\n",
       "      <th></th>\n",
       "    </tr>\n",
       "  </thead>\n",
       "  <tbody>\n",
       "    <tr>\n",
       "      <th>2012-11-16</th>\n",
       "      <td>5</td>\n",
       "      <td>-4</td>\n",
       "      <td>-1.3</td>\n",
       "    </tr>\n",
       "    <tr>\n",
       "      <th>2012-11-17</th>\n",
       "      <td>1</td>\n",
       "      <td>-4</td>\n",
       "      <td>-2.5</td>\n",
       "    </tr>\n",
       "    <tr>\n",
       "      <th>2012-11-26</th>\n",
       "      <td>5</td>\n",
       "      <td>4</td>\n",
       "      <td>4.3</td>\n",
       "    </tr>\n",
       "    <tr>\n",
       "      <th>2012-11-27</th>\n",
       "      <td>4</td>\n",
       "      <td>4</td>\n",
       "      <td>4.0</td>\n",
       "    </tr>\n",
       "    <tr>\n",
       "      <th>2012-12-07</th>\n",
       "      <td>5</td>\n",
       "      <td>-4</td>\n",
       "      <td>-1.3</td>\n",
       "    </tr>\n",
       "  </tbody>\n",
       "</table>\n",
       "</div>"
      ],
      "text/plain": [
       "            star_rating  review_score  total_score\n",
       "date                                              \n",
       "2012-11-16            5            -4         -1.3\n",
       "2012-11-17            1            -4         -2.5\n",
       "2012-11-26            5             4          4.3\n",
       "2012-11-27            4             4          4.0\n",
       "2012-12-07            5            -4         -1.3"
      ]
     },
     "execution_count": 12,
     "metadata": {},
     "output_type": "execute_result"
    }
   ],
   "source": [
    "import matplotlib.pyplot as plt\n",
    "microwave1 = pd.read_csv('./files/microwave.csv',encoding='gb18030')\n",
    "microwave100_kind['review_date'] = microwave1['review_date']\n",
    "sum_score = microwave100_kind.groupby('review_date').sum()[['star_rating','review_score']]\n",
    "sum_score['date'] = pd.to_datetime(sum_score.index).values\n",
    "sum_score.set_index('date',inplace=True)\n",
    "sum_score.sort_index(inplace=True)\n",
    "total_score = sum_score['star_rating'] * 0.3 + sum_score['review_score'] * 0.7\n",
    "sum_score['total_score'] = total_score\n",
    "sum_score.head()"
   ]
  },
  {
   "cell_type": "code",
   "execution_count": 14,
   "metadata": {
    "scrolled": false
   },
   "outputs": [
    {
     "data": {
      "text/plain": [
       "<matplotlib.legend.Legend at 0x5390910>"
      ]
     },
     "execution_count": 14,
     "metadata": {},
     "output_type": "execute_result"
    },
    {
     "data": {
      "image/png": "[encoded data removed]",
      "text/plain": [
       "<Figure size 576x432 with 1 Axes>"
      ]
     },
     "metadata": {},
     "output_type": "display_data"
    }
   ],
   "source": [
    "sum_score = sum_score.loc['2015-08-01':'2015-08-31']\n",
    "def EWMA(scores, alpha=0.9):\n",
    "    newScores = np.zeros(shape = scores.shape)\n",
    "    newScores[0] = scores[0]\n",
    "    for i in range(1, len(scores)):\n",
    "        newScores[i] = scores[i]*alpha + newScores[i-1]*(1-alpha)\n",
    "    return newScores;\n",
    "import pandas as pd \n",
    "scores = sum_score['total_score']\n",
    "newScores = EWMA(scores, alpha=0.1)\n",
    "sum_score['EWMAstar_rating'] = newScores\n",
    "# print(sum_score.head())\n",
    "fig, ax = plt.subplots(figsize=(8,6))\n",
    "plt.plot(sum_score.index,sum_score['EWMAstar_rating'],marker='*')\n",
    "plt.xlabel('Date',fontsize=15)\n",
    "plt.ylabel('EWMAScores',fontsize=15)\n",
    "plt.title('EWMAScores of microwave',fontsize=15)\n",
    "plt.legend(['microwave'],fontsize=15)"
   ]
  },
  {
   "cell_type": "code",
   "execution_count": 17,
   "metadata": {
    "scrolled": true
   },
   "outputs": [
    {
     "data": {
      "text/html": [
       "<div>\n",
       "<style>\n",
       "    .dataframe thead tr:only-child th {\n",
       "        text-align: right;\n",
       "    }\n",
       "\n",
       "    .dataframe thead th {\n",
       "        text-align: left;\n",
       "    }\n",
       "\n",
       "    .dataframe tbody tr th {\n",
       "        vertical-align: top;\n",
       "    }\n",
       "</style>\n",
       "<table border=\"1\" class=\"dataframe\">\n",
       "  <thead>\n",
       "    <tr style=\"text-align: right;\">\n",
       "      <th></th>\n",
       "      <th>star_rating</th>\n",
       "      <th>review_score</th>\n",
       "      <th>ave_total_score</th>\n",
       "    </tr>\n",
       "    <tr>\n",
       "      <th>date</th>\n",
       "      <th></th>\n",
       "      <th></th>\n",
       "      <th></th>\n",
       "    </tr>\n",
       "  </thead>\n",
       "  <tbody>\n",
       "    <tr>\n",
       "      <th>2012-11-16</th>\n",
       "      <td>5.0</td>\n",
       "      <td>-4.0</td>\n",
       "      <td>-1.3</td>\n",
       "    </tr>\n",
       "    <tr>\n",
       "      <th>2012-11-17</th>\n",
       "      <td>1.0</td>\n",
       "      <td>-4.0</td>\n",
       "      <td>-2.5</td>\n",
       "    </tr>\n",
       "    <tr>\n",
       "      <th>2012-11-26</th>\n",
       "      <td>5.0</td>\n",
       "      <td>4.0</td>\n",
       "      <td>4.3</td>\n",
       "    </tr>\n",
       "    <tr>\n",
       "      <th>2012-11-27</th>\n",
       "      <td>4.0</td>\n",
       "      <td>4.0</td>\n",
       "      <td>4.0</td>\n",
       "    </tr>\n",
       "    <tr>\n",
       "      <th>2012-12-07</th>\n",
       "      <td>5.0</td>\n",
       "      <td>-4.0</td>\n",
       "      <td>-1.3</td>\n",
       "    </tr>\n",
       "  </tbody>\n",
       "</table>\n",
       "</div>"
      ],
      "text/plain": [
       "            star_rating  review_score  ave_total_score\n",
       "date                                                  \n",
       "2012-11-16          5.0          -4.0             -1.3\n",
       "2012-11-17          1.0          -4.0             -2.5\n",
       "2012-11-26          5.0           4.0              4.3\n",
       "2012-11-27          4.0           4.0              4.0\n",
       "2012-12-07          5.0          -4.0             -1.3"
      ]
     },
     "execution_count": 17,
     "metadata": {},
     "output_type": "execute_result"
    }
   ],
   "source": [
    "ave_score = microwave100_kind.groupby('review_date').mean()[['star_rating','review_score']]\n",
    "ave_score['date'] = pd.to_datetime(ave_score.index).values\n",
    "ave_score.set_index('date',inplace=True)\n",
    "ave_score.sort_index(inplace=True)\n",
    "ave_total_score = ave_score['star_rating'] * 0.3 + ave_score['review_score'] * 0.7\n",
    "ave_score['ave_total_score'] = ave_total_score\n",
    "ave_score.head()"
   ]
  },
  {
   "cell_type": "code",
   "execution_count": 18,
   "metadata": {},
   "outputs": [
    {
     "name": "stdout",
     "output_type": "stream",
     "text": [
      "            star_rating  review_score  ave_total_score  EWMAstar_rating\n",
      "date                                                                   \n",
      "2015-08-01     4.800000      1.600000         2.560000         4.800000\n",
      "2015-08-02     3.666667     -0.666667         0.633333         4.686667\n",
      "2015-08-03     5.000000      3.000000         3.600000         4.718000\n",
      "2015-08-04     5.000000      1.000000         2.200000         4.746200\n",
      "2015-08-05     4.333333      3.666667         3.866667         4.704913\n"
     ]
    },
    {
     "name": "stderr",
     "output_type": "stream",
     "text": [
      "d:\\python3.6.4\\lib\\site-packages\\ipykernel_launcher.py:23: SettingWithCopyWarning: \n",
      "A value is trying to be set on a copy of a slice from a DataFrame.\n",
      "Try using .loc[row_indexer,col_indexer] = value instead\n",
      "\n",
      "See the caveats in the documentation: http://pandas.pydata.org/pandas-docs/stable/indexing.html#indexing-view-versus-copy\n"
     ]
    },
    {
     "data": {
      "text/plain": [
       "<matplotlib.legend.Legend at 0x53dd270>"
      ]
     },
     "execution_count": 18,
     "metadata": {},
     "output_type": "execute_result"
    },
    {
     "data": {
      "image/png": "[encoded data removed]",
      "text/plain": [
       "<Figure size 576x432 with 1 Axes>"
      ]
     },
     "metadata": {},
     "output_type": "display_data"
    }
   ],
   "source": [
    "ave_score2 = ave_score.loc['2015-08-01':'2015-08-31']\n",
    "# plt.plot(ave_score2.index,ave_score2['star_rating'],marker='*')\n",
    "# 加权指数平均，当天的权值为0.9，前一天的权值为(1-0.9)*0.9\n",
    "# 当天得分 EWMAtoday=α * score + ( 1 - α ) * EMAyesterday\n",
    "def EWMA(scores, alpha=0.9):\n",
    "    # 初始化移动加权平均后的数组\n",
    "    newScores = np.zeros(shape = scores.shape)\n",
    "    # 因为第一天前面没有数据，没法加权平均\n",
    "    newScores[0] = scores[0]\n",
    "    # 从第二天开始朝后，开始进行加权平均\n",
    "    for i in range(1, len(scores)):\n",
    "        # 当天最终的得分 等于 今天分值乘以当天权值 + 昨天最终得分 * （1-当天权值）\n",
    "        # 注意这儿用的是昨天的最终得分，昨天的最终得分也是通过EWMA计算而来，起到递归的效果\n",
    "        newScores[i] = scores[i]*alpha + newScores[i-1]*(1-alpha)\n",
    "    return newScores;\n",
    "# 测试数据\n",
    "# scores = np.array([2,3,4])\n",
    "# 第一天是2分 第二天得分 s2 = 3*alpha + s1\n",
    "# newScores = EWMA(scores, alpha=0.5)\n",
    "import pandas as pd \n",
    "scores = np.array(ave_score2['star_rating'])\n",
    "newScores = EWMA(scores, alpha=0.1)\n",
    "ave_score2['EWMAstar_rating'] = newScores\n",
    "print(ave_score2.head())\n",
    "fig, ax = plt.subplots(figsize=(8,6))\n",
    "plt.plot(ave_score2.index,ave_score2['EWMAstar_rating'],marker='*')\n",
    "plt.xlabel('Date',fontsize=15)\n",
    "plt.ylabel('EWMAScores',fontsize=15)\n",
    "plt.title('The average star_rating EWMAScores per day in one month',fontsize=15)\n",
    "plt.legend(['microwave'],fontsize=15)"
   ]
  },
  {
   "cell_type": "markdown",
   "metadata": {},
   "source": [
    "# 用平均累加求和代入logistics函数求概率值判断是否潜在成功"
   ]
  },
  {
   "cell_type": "code",
   "execution_count": 19,
   "metadata": {
    "scrolled": true
   },
   "outputs": [
    {
     "name": "stdout",
     "output_type": "stream",
     "text": [
      "cumsum= -1.2999999999999998\n",
      "微波炉概率值为 0.4875026035157896\n"
     ]
    }
   ],
   "source": [
    "cumsum = 0\n",
    "for i in range(0,26):\n",
    "    cumsum1 = sum_score['total_score'][i+1] - sum_score['total_score'][i]\n",
    "    cumsum = cumsum + cumsum1\n",
    "#     print(cumsum1)\n",
    "print('cumsum=',cumsum)\n",
    "# Logistic函数，输出0-1内的数，映射成概率值\n",
    "def sigmoid(z):\n",
    "    return 1.0/(1 + np.exp(-z))\n",
    "print('微波炉概率值为',sigmoid(cumsum/26))"
   ]
  },
  {
   "cell_type": "code",
   "execution_count": 20,
   "metadata": {},
   "outputs": [
    {
     "data": {
      "image/png": "[encoded data removed]",
      "text/plain": [
       "<Figure size 864x576 with 1 Axes>"
      ]
     },
     "metadata": {},
     "output_type": "display_data"
    }
   ],
   "source": [
    "import matplotlib.pyplot as plt\n",
    "fig, ax = plt.subplots(figsize=(12,8))\n",
    "plt.plot(sum_score.index,sum_score['star_rating'],marker='o')\n",
    "plt.plot(sum_score.index,sum_score['review_score'],marker='*')\n",
    "plt.plot(sum_score.index,sum_score['total_score'],marker='v')\n",
    "plt.title(\"The values of star_rating, review_score and total_score changed with time\")\n",
    "plt.xlabel('date')\n",
    "plt.ylabel('Score values')\n",
    "#设置图例显示的位置和列的个数\n",
    "plt.legend(['star_rating','review_score','total_score'])\n",
    "# ax.set_xticks(sum_score.index.values)\n",
    "# ax.set_xticklabels(sum_score.index.values,rotation=40)\n",
    "plt.show()"
   ]
  },
  {
   "cell_type": "code",
   "execution_count": null,
   "metadata": {},
   "outputs": [],
   "source": []
  }
 ],
 "metadata": {
  "kernelspec": {
   "display_name": "Python 3",
   "language": "python",
   "name": "python3"
  },
  "language_info": {
   "codemirror_mode": {
    "name": "ipython",
    "version": 3
   },
   "file_extension": ".py",
   "mimetype": "text/x-python",
   "name": "python",
   "nbconvert_exporter": "python",
   "pygments_lexer": "ipython3",
   "version": "3.6.4"
  }
 },
 "nbformat": 4,
 "nbformat_minor": 2
}
