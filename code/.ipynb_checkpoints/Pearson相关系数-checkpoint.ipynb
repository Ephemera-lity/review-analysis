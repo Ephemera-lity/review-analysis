{
 "cells": [
  {
   "cell_type": "markdown",
   "metadata": {},
   "source": [
    "# Pearson相关系数"
   ]
  },
  {
   "cell_type": "code",
   "execution_count": 4,
   "metadata": {},
   "outputs": [
    {
     "data": {
      "text/html": [
       "<div>\n",
       "<style>\n",
       "    .dataframe thead tr:only-child th {\n",
       "        text-align: right;\n",
       "    }\n",
       "\n",
       "    .dataframe thead th {\n",
       "        text-align: left;\n",
       "    }\n",
       "\n",
       "    .dataframe tbody tr th {\n",
       "        vertical-align: top;\n",
       "    }\n",
       "</style>\n",
       "<table border=\"1\" class=\"dataframe\">\n",
       "  <thead>\n",
       "    <tr style=\"text-align: right;\">\n",
       "      <th></th>\n",
       "      <th>c1</th>\n",
       "      <th>c2</th>\n",
       "    </tr>\n",
       "  </thead>\n",
       "  <tbody>\n",
       "    <tr>\n",
       "      <th>c1</th>\n",
       "      <td>1.0</td>\n",
       "      <td>-1.0</td>\n",
       "    </tr>\n",
       "    <tr>\n",
       "      <th>c2</th>\n",
       "      <td>-1.0</td>\n",
       "      <td>1.0</td>\n",
       "    </tr>\n",
       "  </tbody>\n",
       "</table>\n",
       "</div>"
      ],
      "text/plain": [
       "     c1   c2\n",
       "c1  1.0 -1.0\n",
       "c2 -1.0  1.0"
      ]
     },
     "execution_count": 4,
     "metadata": {},
     "output_type": "execute_result"
    }
   ],
   "source": [
    "import numpy as np\n",
    "import pandas as pd\n",
    "a= np.array([2,3,9,6,8])\n",
    "b= np.array([5,6,3,7,9])\n",
    "c=np.array([a,b])\n",
    "#axis=0,表示按列求均值\n",
    "c_mean= np.mean(c,axis=0) \n",
    "c_std = np.std(c,axis=0)\n",
    "c_zscore= (c-c_mean)/c_std #标准化\n",
    "# c_zscore_corr= np.corrcoef(c_zscore) #相关系数矩阵\n",
    "# print(c_zscore_corr)\n",
    "c_pd = pd.DataFrame(c_zscore.T, columns=['c1', 'c2'])\n",
    "c_corr= c_pd.corr(method='spearman') \n",
    "c_corr"
   ]
  },
  {
   "cell_type": "code",
   "execution_count": 15,
   "metadata": {},
   "outputs": [
    {
     "data": {
      "text/html": [
       "<div>\n",
       "<style>\n",
       "    .dataframe thead tr:only-child th {\n",
       "        text-align: right;\n",
       "    }\n",
       "\n",
       "    .dataframe thead th {\n",
       "        text-align: left;\n",
       "    }\n",
       "\n",
       "    .dataframe tbody tr th {\n",
       "        vertical-align: top;\n",
       "    }\n",
       "</style>\n",
       "<table border=\"1\" class=\"dataframe\">\n",
       "  <thead>\n",
       "    <tr style=\"text-align: right;\">\n",
       "      <th></th>\n",
       "      <th>c1</th>\n",
       "      <th>c2</th>\n",
       "    </tr>\n",
       "  </thead>\n",
       "  <tbody>\n",
       "    <tr>\n",
       "      <th>c1</th>\n",
       "      <td>1.0</td>\n",
       "      <td>-1.0</td>\n",
       "    </tr>\n",
       "    <tr>\n",
       "      <th>c2</th>\n",
       "      <td>-1.0</td>\n",
       "      <td>1.0</td>\n",
       "    </tr>\n",
       "  </tbody>\n",
       "</table>\n",
       "</div>"
      ],
      "text/plain": [
       "     c1   c2\n",
       "c1  1.0 -1.0\n",
       "c2 -1.0  1.0"
      ]
     },
     "execution_count": 15,
     "metadata": {},
     "output_type": "execute_result"
    }
   ],
   "source": [
    "import numpy as np\n",
    "import pandas as pd\n",
    "X= np.array([11,10,11,13,110])\n",
    "Y= np.array([7,7,16,18,106])\n",
    "c=np.array([X,Y])\n",
    "c_mean= np.mean(c,axis=0) \n",
    "c_std = np.std(c,axis=0)\n",
    "c_zscore= (c-c_mean)/c_std \n",
    "c_pd = pd.DataFrame(c_zscore.T, columns=['c1', 'c2'])\n",
    "c_corr= c_pd.corr(method='spearman') \n",
    "c_corr"
   ]
  },
  {
   "cell_type": "code",
   "execution_count": null,
   "metadata": {},
   "outputs": [],
   "source": [
    "import numpy as np\n",
    "import pandas as pd\n",
    "a= np.array([7,5,13,13,56])\n",
    "b= np.array([11,6,15,20,73])\n",
    "c=np.array([a,b])\n",
    "c_mean= np.mean(c,axis=0) \n",
    "c_std = np.std(c,axis=0)\n",
    "c_zscore= (c-c_mean)/c_std \n",
    "# c_zscore_corr= np.corrcoef(c_zscore) \n",
    "# print(c_zscore_corr)\n",
    "c_pd = pd.DataFrame(c_zscore.T, columns=['c1', 'c2'])\n",
    "c_corr= c_pd.corr(method='spearman') \n",
    "c_corr"
   ]
  },
  {
   "cell_type": "code",
   "execution_count": null,
   "metadata": {},
   "outputs": [],
   "source": [
    "import numpy as np\n",
    "import pandas as pd\n",
    "a= np.array([5,4,5,15,45])\n",
    "b= np.array([9,2,5,26,27])\n",
    "c=np.array([a,b])\n",
    "c_mean= np.mean(c,axis=0) \n",
    "c_std = np.std(c,axis=0)\n",
    "c_zscore= (c-c_mean)/c_std \n",
    "c_zscore_corr= np.corrcoef(c_zscore) \n",
    "print(c_zscore_corr)"
   ]
  },
  {
   "cell_type": "code",
   "execution_count": null,
   "metadata": {},
   "outputs": [],
   "source": []
  }
 ],
 "metadata": {
  "kernelspec": {
   "display_name": "Python 3",
   "language": "python",
   "name": "python3"
  },
  "language_info": {
   "codemirror_mode": {
    "name": "ipython",
    "version": 3
   },
   "file_extension": ".py",
   "mimetype": "text/x-python",
   "name": "python",
   "nbconvert_exporter": "python",
   "pygments_lexer": "ipython3",
   "version": "3.6.4"
  }
 },
 "nbformat": 4,
 "nbformat_minor": 2
}
